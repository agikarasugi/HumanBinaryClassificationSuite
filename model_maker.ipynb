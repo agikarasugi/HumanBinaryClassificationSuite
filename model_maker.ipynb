{
 "cells": [
  {
   "cell_type": "code",
   "execution_count": 1,
   "metadata": {},
   "outputs": [],
   "source": [
    "import tensorflow as tf\n",
    "from tensorflow import keras\n",
    "import numpy as np\n",
    "import matplotlib.pyplot as plt\n",
    "from datetime import datetime\n",
    "import pickle\n",
    "from tensorflow.keras.utils import plot_model\n",
    "import os"
   ]
  },
  {
   "cell_type": "code",
   "execution_count": 2,
   "metadata": {},
   "outputs": [],
   "source": [
    "image_size_y = 50\n",
    "image_size_x = 80"
   ]
  },
  {
   "cell_type": "code",
   "execution_count": 3,
   "metadata": {},
   "outputs": [],
   "source": [
    "file = open('test_data.pkl', 'rb')\n",
    "test_image, test_label = pickle.load(file)\n",
    "file.close()\n",
    "\n",
    "file = open('train_data.pkl', 'rb')\n",
    "train_image, train_label = pickle.load(file)\n",
    "file.close()\n",
    "\n",
    "train_image = train_image.reshape(len(train_image), image_size_x, image_size_y, 3)\n",
    "train_image = train_image / 255.0\n",
    "\n",
    "test_image = test_image.reshape(len(test_image), image_size_x, image_size_y, 3)\n",
    "test_image = test_image / 255.0"
   ]
  },
  {
   "cell_type": "code",
   "execution_count": 4,
   "metadata": {},
   "outputs": [],
   "source": [
    "now = datetime.now()\n",
    "dt_string = now.strftime(\"%d%m%Y-%H%M\")\n",
    "                \n",
    "name = dt_string\n",
    "                \n",
    "foldername = './models/' + name + '/'\n",
    "os.mkdir(foldername)"
   ]
  },
  {
   "cell_type": "code",
   "execution_count": 5,
   "metadata": {},
   "outputs": [],
   "source": [
    "class CustomModelCheckpoint(tf.keras.callbacks.Callback):\n",
    "    def __init__(self, test_data, max_loss_to_save):\n",
    "        self.test_data = test_data\n",
    "        self.min_loss = 99.99\n",
    "        self.max_acc = -1\n",
    "        self.counter = 0\n",
    "        self.max_loss_to_save = max_loss_to_save\n",
    "\n",
    "    def on_epoch_end(self, epoch, logs={}):\n",
    "        x, y = self.test_data\n",
    "        loss, acc = self.model.evaluate(x, y, verbose=0)\n",
    "        print('\\nTesting loss: {}, acc: {}\\n'.format(loss, acc))\n",
    "        \n",
    "        if acc > self.max_acc:\n",
    "            self.max_acc = acc\n",
    "        \n",
    "        if loss < self.min_loss:\n",
    "            self.min_loss = loss\n",
    "            \n",
    "            if loss < self.max_loss_to_save:\n",
    "                mnow = datetime.now()\n",
    "                mdt_string = mnow.strftime(\"%d%m%Y-%H%M\")\n",
    "                \n",
    "                mname = 'l{:4.0f}-a{:2.0f}-'.format(loss*10000, acc*100) + dt_string\n",
    "                \n",
    "                filename = foldername + mname\n",
    "                \n",
    "                print('Saving model as {}...\\n\\n'.format(filename))\n",
    "                plot_model(model, to_file=(filename+'.jpg'), show_shapes=True)\n",
    "                model.save(filename+'.h5')\n",
    "                \n",
    "        if loss > self.min_loss:\n",
    "            self.counter += 1\n",
    "            \n",
    "            if self.counter > 15 or loss > 0.65:\n",
    "                print('Model hasn\\'t improved in a while, cancelling training')\n",
    "                self.model.stop_training = True\n",
    "    \n",
    "    def on_train_end(self, logs={}):\n",
    "        print('\\n\\n\\nSUMMARRY')\n",
    "        print('========')\n",
    "        print('Best loss: {}, Best Acc: {}'.format(self.min_loss, self.max_acc))"
   ]
  },
  {
   "cell_type": "code",
   "execution_count": 6,
   "metadata": {},
   "outputs": [],
   "source": [
    "model = tf.keras.models.Sequential(layers=[\n",
    "    tf.keras.layers.Conv2D(16, (3, 3), activation=tf.nn.relu,\n",
    "                            input_shape=(image_size_x, image_size_y, 3)),\n",
    "    tf.keras.layers.MaxPooling2D(2, 2),\n",
    "    tf.keras.layers.Conv2D(8, (3, 3), activation=tf.nn.relu),\n",
    "    tf.keras.layers.MaxPooling2D(2, 2),\n",
    "#     tf.keras.layers.Conv2D(8, (3, 3), activation=tf.nn.relu),\n",
    "#     tf.keras.layers.MaxPooling2D(2, 2),\n",
    "    tf.keras.layers.Flatten(),\n",
    "#     tf.keras.layers.Dense(256, activation=tf.nn.relu),\n",
    "#     tf.keras.layers.Dropout(0.8),\n",
    "    tf.keras.layers.Dense(128, activation=tf.nn.relu),\n",
    "#     tf.keras.layers.Dropout(0.8),\n",
    "    tf.keras.layers.Dense(64, activation=tf.nn.relu),\n",
    "#     tf.keras.layers.Dropout(0.8),\n",
    "#     tf.keras.layers.Dense(8, activation=tf.nn.relu),\n",
    "    tf.keras.layers.Dense(1, activation='sigmoid')\n",
    "])"
   ]
  },
  {
   "cell_type": "code",
   "execution_count": 7,
   "metadata": {},
   "outputs": [
    {
     "name": "stdout",
     "output_type": "stream",
     "text": [
      "_________________________________________________________________\n",
      "Layer (type)                 Output Shape              Param #   \n",
      "=================================================================\n",
      "conv2d (Conv2D)              (None, 78, 48, 16)        448       \n",
      "_________________________________________________________________\n",
      "max_pooling2d (MaxPooling2D) (None, 39, 24, 16)        0         \n",
      "_________________________________________________________________\n",
      "conv2d_1 (Conv2D)            (None, 37, 22, 8)         1160      \n",
      "_________________________________________________________________\n",
      "max_pooling2d_1 (MaxPooling2 (None, 18, 11, 8)         0         \n",
      "_________________________________________________________________\n",
      "flatten (Flatten)            (None, 1584)              0         \n",
      "_________________________________________________________________\n",
      "dense (Dense)                (None, 128)               202880    \n",
      "_________________________________________________________________\n",
      "dense_1 (Dense)              (None, 64)                8256      \n",
      "_________________________________________________________________\n",
      "dense_2 (Dense)              (None, 1)                 65        \n",
      "=================================================================\n",
      "Total params: 212,809\n",
      "Trainable params: 212,809\n",
      "Non-trainable params: 0\n",
      "_________________________________________________________________\n"
     ]
    }
   ],
   "source": [
    "model.compile(optimizer=tf.keras.optimizers.RMSprop(lr=0.001),\n",
    "                loss='binary_crossentropy',\n",
    "                metrics=['acc'])\n",
    "\n",
    "# model.compile(optimizer='adam',\n",
    "#                 loss='binary_crossentropy',\n",
    "#                 metrics=['acc'])\n",
    "\n",
    "model.summary()"
   ]
  },
  {
   "cell_type": "code",
   "execution_count": 8,
   "metadata": {
    "scrolled": true
   },
   "outputs": [
    {
     "name": "stdout",
     "output_type": "stream",
     "text": [
      "Train on 5013 samples, validate on 1671 samples\n",
      "Epoch 1/15\n",
      "5013/5013 [==============================] - 5s 918us/step - loss: 0.4080 - acc: 0.8534 - val_loss: 0.3779 - val_acc: 0.8480\n",
      "\n",
      "Testing loss: 0.37793232578135477, acc: 0.8515858767561967\n",
      "\n",
      "Epoch 2/15\n",
      "5013/5013 [==============================] - 4s 778us/step - loss: 0.3688 - acc: 0.8602 - val_loss: 0.3617 - val_acc: 0.8534\n",
      "\n",
      "Testing loss: 0.36548192061613166, acc: 0.8641532017113134\n",
      "\n",
      "Epoch 3/15\n",
      "5013/5013 [==============================] - 4s 843us/step - loss: 0.3457 - acc: 0.8665 - val_loss: 0.3344 - val_acc: 0.8665\n",
      "\n",
      "Testing loss: 0.34099183538800437, acc: 0.8653500898022769\n",
      "\n",
      "Epoch 4/15\n",
      "5013/5013 [==============================] - 4s 808us/step - loss: 0.3206 - acc: 0.8747 - val_loss: 0.3249 - val_acc: 0.8665\n",
      "\n",
      "Testing loss: 0.33218928852315294, acc: 0.8623578695748682\n",
      "\n",
      "Epoch 5/15\n",
      "5013/5013 [==============================] - 4s 770us/step - loss: 0.2949 - acc: 0.8855 - val_loss: 0.3306 - val_acc: 0.8707\n",
      "\n",
      "Testing loss: 0.34203165976463284, acc: 0.8671454219387221\n",
      "\n",
      "Epoch 6/15\n",
      "5013/5013 [==============================] - 4s 792us/step - loss: 0.2743 - acc: 0.8909 - val_loss: 0.3961 - val_acc: 0.8175\n",
      "\n",
      "Testing loss: 0.39374557281953, acc: 0.8144823459719984\n",
      "\n",
      "Epoch 7/15\n",
      "5013/5013 [==============================] - 4s 774us/step - loss: 0.2492 - acc: 0.8993 - val_loss: 0.3199 - val_acc: 0.8761\n",
      "\n",
      "Testing loss: 0.3151606899189564, acc: 0.883901855212211\n",
      "\n",
      "Epoch 8/15\n",
      "5013/5013 [==============================] - 4s 771us/step - loss: 0.2264 - acc: 0.9078 - val_loss: 0.3211 - val_acc: 0.8743\n",
      "\n",
      "Testing loss: 0.31771024633566824, acc: 0.8821065230757658\n",
      "\n",
      "Epoch 9/15\n",
      "5013/5013 [==============================] - 4s 789us/step - loss: 0.2002 - acc: 0.9196 - val_loss: 0.3624 - val_acc: 0.8785\n",
      "\n",
      "Testing loss: 0.3534175970645667, acc: 0.8779174147573936\n",
      "\n",
      "Epoch 10/15\n",
      "5013/5013 [==============================] - 4s 754us/step - loss: 0.1798 - acc: 0.9312 - val_loss: 0.3347 - val_acc: 0.8809\n",
      "\n",
      "Testing loss: 0.33122945541682036, acc: 0.8767205266664301\n",
      "\n",
      "Epoch 11/15\n",
      "5013/5013 [==============================] - 4s 761us/step - loss: 0.1590 - acc: 0.9404 - val_loss: 0.3579 - val_acc: 0.8701\n",
      "\n",
      "Testing loss: 0.36850670996645407, acc: 0.8695391981206491\n",
      "\n",
      "Epoch 12/15\n",
      "5013/5013 [==============================] - 4s 753us/step - loss: 0.1340 - acc: 0.9477 - val_loss: 0.4176 - val_acc: 0.8821\n",
      "\n",
      "Testing loss: 0.41987949973590927, acc: 0.879114302848357\n",
      "\n",
      "Epoch 13/15\n",
      "5013/5013 [==============================] - 4s 823us/step - loss: 0.1128 - acc: 0.9581 - val_loss: 0.3934 - val_acc: 0.8725\n",
      "\n",
      "Testing loss: 0.4063493904419676, acc: 0.874326750484503\n",
      "\n",
      "Epoch 14/15\n",
      "5013/5013 [==============================] - 4s 791us/step - loss: 0.1012 - acc: 0.9611 - val_loss: 0.6940 - val_acc: 0.8654\n",
      "\n",
      "Testing loss: 0.679798375625656, acc: 0.8725314183480578\n",
      "\n",
      "Model hasn't improved in a while, cancelling training\n",
      "\n",
      "\n",
      "\n",
      "SUMMARRY\n",
      "========\n",
      "Best loss: 0.3151606899189564, Best Acc: 0.883901855212211\n",
      "1671/1671 [==============================] - 1s 316us/step\n"
     ]
    }
   ],
   "source": [
    "history = model.fit(train_image, train_label, epochs=15, \n",
    "          validation_split=0.25, shuffle=True,\n",
    "          callbacks=[CustomModelCheckpoint((test_image, test_label), 0.30)],\n",
    "                   verbose=1)\n",
    "\n",
    "test_loss = model.evaluate(test_image, test_label)"
   ]
  },
  {
   "cell_type": "code",
   "execution_count": 9,
   "metadata": {},
   "outputs": [
    {
     "name": "stdout",
     "output_type": "stream",
     "text": [
      "Loss: 0.679798375625656, Accuracy: 0.8725314183480578\n",
      "./models/12102019-0216/12102019-0216\n"
     ]
    },
    {
     "data": {
      "image/png": "[encoded data removed]",
      "text/plain": [
       "<Figure size 432x288 with 1 Axes>"
      ]
     },
     "metadata": {
      "needs_background": "light"
     },
     "output_type": "display_data"
    },
    {
     "data": {
      "image/png": "[encoded data removed]",
      "text/plain": [
       "<Figure size 432x288 with 1 Axes>"
      ]
     },
     "metadata": {
      "needs_background": "light"
     },
     "output_type": "display_data"
    }
   ],
   "source": [
    "print(\"Loss: {}, Accuracy: {}\".format(test_loss[0], test_loss[1]))\n",
    "\n",
    "filename = foldername + name\n",
    "\n",
    "print(filename)\n",
    "\n",
    "# Plot training & validation accuracy values\n",
    "plt.plot(history.history['acc'])\n",
    "plt.plot(history.history['val_acc'])\n",
    "plt.title('Model accuracy')\n",
    "plt.ylabel('Accuracy')\n",
    "plt.xlabel('Epoch')\n",
    "plt.legend(['Train', 'Test'], loc='upper left')\n",
    "plt.savefig(filename + '_gacc.png', dpi=64)\n",
    "plt.show()\n",
    "\n",
    "# Plot training & validation loss values\n",
    "plt.plot(history.history['loss'])\n",
    "plt.plot(history.history['val_loss'])\n",
    "plt.title('Model loss')\n",
    "plt.ylabel('Loss')\n",
    "plt.xlabel('Epoch')\n",
    "plt.legend(['Train', 'Test'], loc='upper left')\n",
    "plt.savefig(filename + '_gloss.png', dpi=64)\n",
    "plt.show()"
   ]
  }
 ],
 "metadata": {
  "kernelspec": {
   "display_name": "Python 3",
   "language": "python",
   "name": "python3"
  },
  "language_info": {
   "codemirror_mode": {
    "name": "ipython",
    "version": 3
   },
   "file_extension": ".py",
   "mimetype": "text/x-python",
   "name": "python",
   "nbconvert_exporter": "python",
   "pygments_lexer": "ipython3",
   "version": "3.6.6"
  }
 },
 "nbformat": 4,
 "nbformat_minor": 2
}
