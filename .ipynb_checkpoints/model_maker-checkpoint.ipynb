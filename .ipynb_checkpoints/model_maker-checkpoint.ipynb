{
 "cells": [
  {
   "cell_type": "code",
   "execution_count": 1,
   "metadata": {},
   "outputs": [],
   "source": [
    "import tensorflow as tf\n",
    "from tensorflow import keras\n",
    "import numpy as np\n",
    "import matplotlib.pyplot as plt\n",
    "from datetime import datetime\n",
    "import pickle\n",
    "from tensorflow.keras.utils import plot_model\n",
    "import os"
   ]
  },
  {
   "cell_type": "code",
   "execution_count": 2,
   "metadata": {},
   "outputs": [],
   "source": [
    "image_size_y = 50\n",
    "image_size_x = 80"
   ]
  },
  {
   "cell_type": "code",
   "execution_count": 3,
   "metadata": {},
   "outputs": [],
   "source": [
    "file = open('test_data.pkl', 'rb')\n",
    "test_image, test_label = pickle.load(file)\n",
    "file.close()\n",
    "\n",
    "file = open('train_data.pkl', 'rb')\n",
    "train_image, train_label = pickle.load(file)\n",
    "file.close()\n",
    "\n",
    "train_image = train_image.reshape(len(train_image), image_size_x, image_size_y, 3)\n",
    "train_image = train_image / 255.0\n",
    "\n",
    "test_image = test_image.reshape(len(test_image), image_size_x, image_size_y, 3)\n",
    "test_image = test_image / 255.0"
   ]
  },
  {
   "cell_type": "code",
   "execution_count": 4,
   "metadata": {},
   "outputs": [],
   "source": [
    "now = datetime.now()\n",
    "dt_string = now.strftime(\"%d%m%Y-%H%M\")\n",
    "                \n",
    "name = dt_string\n",
    "                \n",
    "foldername = './models/' + name + '/'\n",
    "os.mkdir(foldername)"
   ]
  },
  {
   "cell_type": "code",
   "execution_count": 5,
   "metadata": {},
   "outputs": [],
   "source": [
    "class CustomModelCheckpoint(tf.keras.callbacks.Callback):\n",
    "    def __init__(self, test_data, max_loss_to_save):\n",
    "        self.test_data = test_data\n",
    "        self.min_loss = 99.99\n",
    "        self.max_acc = -1\n",
    "        self.counter = 0\n",
    "        self.max_loss_to_save = max_loss_to_save\n",
    "\n",
    "    def on_epoch_end(self, epoch, logs={}):\n",
    "        x, y = self.test_data\n",
    "        loss, acc = self.model.evaluate(x, y, verbose=0)\n",
    "        print('\\nTesting loss: {}, acc: {}\\n'.format(loss, acc))\n",
    "        \n",
    "        if acc > self.max_acc:\n",
    "            self.max_acc = acc\n",
    "        \n",
    "        if loss < self.min_loss:\n",
    "            self.min_loss = loss\n",
    "            \n",
    "            if loss < self.max_loss_to_save:\n",
    "                mnow = datetime.now()\n",
    "                mdt_string = mnow.strftime(\"%d%m%Y-%H%M\")\n",
    "                \n",
    "                mname = 'l{:4.0f}-a{:2.0f}-'.format(loss*10000, acc*100) + dt_string\n",
    "                \n",
    "                filename = foldername + mname\n",
    "                \n",
    "                print('Saving model as {}...\\n\\n'.format(filename))\n",
    "                plot_model(model, to_file=(filename+'.jpg'), show_shapes=True)\n",
    "                model.save(filename+'.h5')\n",
    "                \n",
    "        if loss > self.min_loss:\n",
    "            self.counter += 1\n",
    "            \n",
    "            if self.counter > 50 or loss > 0.9:\n",
    "                print('Model hasn\\'t improved in a while, cancelling training')\n",
    "                self.model.stop_training = True\n",
    "    \n",
    "    def on_train_end(self, logs={}):\n",
    "        print('\\n\\n\\nSUMMARRY')\n",
    "        print('========')\n",
    "        print('Best loss: {}, Best Acc: {}'.format(self.min_loss, self.max_acc))"
   ]
  },
  {
   "cell_type": "code",
   "execution_count": 6,
   "metadata": {},
   "outputs": [],
   "source": [
    "model = tf.keras.models.Sequential(layers=[\n",
    "    tf.keras.layers.Conv2D(16, (3, 3), activation=tf.nn.relu,\n",
    "                            input_shape=(image_size_x, image_size_y, 3)),\n",
    "    tf.keras.layers.MaxPooling2D(2, 2),\n",
    "    tf.keras.layers.Conv2D(16, (3, 3), activation=tf.nn.leaky_relu),\n",
    "    tf.keras.layers.MaxPooling2D(2, 2),\n",
    "    tf.keras.layers.Conv2D(32, (3, 3), activation=tf.nn.relu),\n",
    "    tf.keras.layers.MaxPooling2D(2, 2),\n",
    "    tf.keras.layers.Flatten(),\n",
    "    tf.keras.layers.Dense(64, activation=tf.nn.relu),\n",
    "#     tf.keras.layers.Dropout(0.3),\n",
    "#     tf.keras.layers.Dense(64, activation=tf.nn.relu),\n",
    "#     tf.keras.layers.Dropout(0.8),\n",
    "#     tf.keras.layers.Dense(32, activation=tf.nn.relu),\n",
    "#     tf.keras.layers.Dropout(0.2),\n",
    "#     tf.keras.layers.Dense(32, activation=tf.nn.relu),\n",
    "    tf.keras.layers.Dense(1, activation='sigmoid')\n",
    "])"
   ]
  },
  {
   "cell_type": "code",
   "execution_count": 7,
   "metadata": {
    "scrolled": true
   },
   "outputs": [
    {
     "name": "stdout",
     "output_type": "stream",
     "text": [
      "_________________________________________________________________\n",
      "Layer (type)                 Output Shape              Param #   \n",
      "=================================================================\n",
      "conv2d (Conv2D)              (None, 78, 48, 16)        448       \n",
      "_________________________________________________________________\n",
      "max_pooling2d (MaxPooling2D) (None, 39, 24, 16)        0         \n",
      "_________________________________________________________________\n",
      "conv2d_1 (Conv2D)            (None, 37, 22, 16)        2320      \n",
      "_________________________________________________________________\n",
      "max_pooling2d_1 (MaxPooling2 (None, 18, 11, 16)        0         \n",
      "_________________________________________________________________\n",
      "conv2d_2 (Conv2D)            (None, 16, 9, 32)         4640      \n",
      "_________________________________________________________________\n",
      "max_pooling2d_2 (MaxPooling2 (None, 8, 4, 32)          0         \n",
      "_________________________________________________________________\n",
      "flatten (Flatten)            (None, 1024)              0         \n",
      "_________________________________________________________________\n",
      "dense (Dense)                (None, 64)                65600     \n",
      "_________________________________________________________________\n",
      "dense_1 (Dense)              (None, 1)                 65        \n",
      "=================================================================\n",
      "Total params: 73,073\n",
      "Trainable params: 73,073\n",
      "Non-trainable params: 0\n",
      "_________________________________________________________________\n"
     ]
    }
   ],
   "source": [
    "# model.compile(optimizer=tf.keras.optimizers.RMSprop(lr=0.0003),\n",
    "#                 loss='binary_crossentropy',\n",
    "#                 metrics=['acc'])\n",
    "\n",
    "model.compile(optimizer='adam',\n",
    "                loss='binary_crossentropy',\n",
    "                metrics=['acc'])\n",
    "\n",
    "# model.compile(optimizer=keras.optimizers.SGD(lr=0.08, nesterov=True),\n",
    "#                 loss='binary_crossentropy',\n",
    "#                 metrics=['acc'])\n",
    "\n",
    "\n",
    "model.summary()"
   ]
  },
  {
   "cell_type": "code",
   "execution_count": 8,
   "metadata": {
    "scrolled": false
   },
   "outputs": [
    {
     "name": "stdout",
     "output_type": "stream",
     "text": [
      "Train on 5013 samples, validate on 1671 samples\n",
      "Epoch 1/20\n",
      "5013/5013 [==============================] - 6s 1ms/step - loss: 0.4144 - acc: 0.8528 - val_loss: 0.4482 - val_acc: 0.8372\n",
      "\n",
      "Testing loss: 0.3967691612129508, acc: 0.8611609814482346\n",
      "\n",
      "Epoch 2/20\n",
      "5013/5013 [==============================] - 3s 588us/step - loss: 0.3663 - acc: 0.8562 - val_loss: 0.3739 - val_acc: 0.8390\n",
      "\n",
      "Testing loss: 0.3456389002461836, acc: 0.8629563135846798\n",
      "\n",
      "Epoch 3/20\n",
      "5013/5013 [==============================] - 3s 592us/step - loss: 0.3443 - acc: 0.8622 - val_loss: 0.3590 - val_acc: 0.8456\n",
      "\n",
      "Testing loss: 0.3216065751184681, acc: 0.8689407540394973\n",
      "\n",
      "Epoch 4/20\n",
      "5013/5013 [==============================] - 3s 592us/step - loss: 0.3184 - acc: 0.8697 - val_loss: 0.3268 - val_acc: 0.8695\n",
      "\n",
      "Testing loss: 0.31106247715897223, acc: 0.8719329742669061\n",
      "\n",
      "Epoch 5/20\n",
      "5013/5013 [==============================] - 3s 592us/step - loss: 0.2857 - acc: 0.8791 - val_loss: 0.3042 - val_acc: 0.8809\n",
      "\n",
      "Testing loss: 0.27954813696439573, acc: 0.8821065230400957\n",
      "\n",
      "Epoch 6/20\n",
      "5013/5013 [==============================] - 3s 591us/step - loss: 0.2735 - acc: 0.8855 - val_loss: 0.2950 - val_acc: 0.8755\n",
      "\n",
      "Testing loss: 0.2720123802577572, acc: 0.8922800718132855\n",
      "\n",
      "Epoch 7/20\n",
      "5013/5013 [==============================] - 4s 724us/step - loss: 0.2432 - acc: 0.9003 - val_loss: 0.3830 - val_acc: 0.8606\n",
      "\n",
      "Testing loss: 0.32157523675310634, acc: 0.8779174147217235\n",
      "\n",
      "Epoch 8/20\n",
      "5013/5013 [==============================] - 4s 743us/step - loss: 0.2382 - acc: 0.8995 - val_loss: 0.2767 - val_acc: 0.8863\n",
      "\n",
      "Testing loss: 0.2583020093016447, acc: 0.8952722920406941\n",
      "\n",
      "Epoch 9/20\n",
      "5013/5013 [==============================] - 4s 765us/step - loss: 0.2098 - acc: 0.9146 - val_loss: 0.2978 - val_acc: 0.8809\n",
      "\n",
      "Testing loss: 0.26506299208816225, acc: 0.8916816277678037\n",
      "\n",
      "Epoch 10/20\n",
      "5013/5013 [==============================] - 4s 752us/step - loss: 0.1980 - acc: 0.9138 - val_loss: 0.2758 - val_acc: 0.8947\n",
      "\n",
      "Testing loss: 0.2639944452429018, acc: 0.8898862956313585\n",
      "\n",
      "Epoch 11/20\n",
      "5013/5013 [==============================] - 4s 735us/step - loss: 0.1814 - acc: 0.9272 - val_loss: 0.2720 - val_acc: 0.8899\n",
      "\n",
      "Testing loss: 0.25877947747743035, acc: 0.8970676241771395\n",
      "\n",
      "Epoch 12/20\n",
      "5013/5013 [==============================] - 4s 719us/step - loss: 0.1586 - acc: 0.9378 - val_loss: 0.3395 - val_acc: 0.8881\n",
      "\n",
      "Testing loss: 0.3010917765752734, acc: 0.8970676241771395\n",
      "\n",
      "Epoch 13/20\n",
      "5013/5013 [==============================] - 4s 724us/step - loss: 0.1418 - acc: 0.9416 - val_loss: 0.3346 - val_acc: 0.8953\n",
      "\n",
      "Testing loss: 0.29862825847038565, acc: 0.9006582884500299\n",
      "\n",
      "Epoch 14/20\n",
      "5013/5013 [==============================] - 4s 728us/step - loss: 0.1358 - acc: 0.9517 - val_loss: 0.3169 - val_acc: 0.8869\n",
      "\n",
      "Testing loss: 0.3368390262715478, acc: 0.874326750448833\n",
      "\n",
      "Epoch 15/20\n",
      "5013/5013 [==============================] - 4s 722us/step - loss: 0.1228 - acc: 0.9571 - val_loss: 0.3099 - val_acc: 0.8893\n",
      "\n",
      "Testing loss: 0.3000286358549638, acc: 0.8982645122681029\n",
      "\n",
      "Epoch 16/20\n",
      "5013/5013 [==============================] - 4s 711us/step - loss: 0.0963 - acc: 0.9651 - val_loss: 0.3003 - val_acc: 0.8977\n",
      "\n",
      "Testing loss: 0.32362400199983876, acc: 0.8827049670855776\n",
      "\n",
      "Epoch 17/20\n",
      "5013/5013 [==============================] - 4s 715us/step - loss: 0.0880 - acc: 0.9677 - val_loss: 0.3932 - val_acc: 0.8947\n",
      "\n",
      "Testing loss: 0.3779698633836172, acc: 0.8988629563135847\n",
      "\n",
      "Epoch 18/20\n",
      "5013/5013 [==============================] - 4s 711us/step - loss: 0.0832 - acc: 0.9689 - val_loss: 0.3336 - val_acc: 0.9013\n",
      "\n",
      "Testing loss: 0.3320428511751498, acc: 0.891083183722322\n",
      "\n",
      "Epoch 19/20\n",
      "5013/5013 [==============================] - 4s 713us/step - loss: 0.0697 - acc: 0.9733 - val_loss: 0.5982 - val_acc: 0.8749\n",
      "\n",
      "Testing loss: 0.5145530209178767, acc: 0.8946738479952124\n",
      "\n",
      "Epoch 20/20\n",
      "5013/5013 [==============================] - 4s 720us/step - loss: 0.0662 - acc: 0.9763 - val_loss: 0.4341 - val_acc: 0.9007\n",
      "\n",
      "Testing loss: 0.42224147830482844, acc: 0.8988629563135847\n",
      "\n",
      "\n",
      "\n",
      "\n",
      "SUMMARRY\n",
      "========\n",
      "Best loss: 0.2583020093016447, Best Acc: 0.9006582884500299\n",
      "1671/1671 [==============================] - 0s 263us/step\n"
     ]
    }
   ],
   "source": [
    "history = model.fit(train_image, train_label, epochs=20, \n",
    "          validation_split=0.25, shuffle=True,\n",
    "          callbacks=[CustomModelCheckpoint((test_image, test_label), 0.2406127)],\n",
    "                   verbose=1)\n",
    "\n",
    "test_loss = model.evaluate(test_image, test_label)"
   ]
  },
  {
   "cell_type": "code",
   "execution_count": 9,
   "metadata": {
    "scrolled": true
   },
   "outputs": [
    {
     "name": "stdout",
     "output_type": "stream",
     "text": [
      "Loss: 0.42224147830482844, Accuracy: 0.8988629563135847\n",
      "./models/13102019-1448/13102019-1448\n"
     ]
    },
    {
     "data": {
      "image/png": "[encoded data removed]",
      "text/plain": [
       "<Figure size 432x288 with 1 Axes>"
      ]
     },
     "metadata": {
      "needs_background": "light"
     },
     "output_type": "display_data"
    },
    {
     "data": {
      "image/png": "[encoded data removed]",
      "text/plain": [
       "<Figure size 432x288 with 1 Axes>"
      ]
     },
     "metadata": {
      "needs_background": "light"
     },
     "output_type": "display_data"
    }
   ],
   "source": [
    "print(\"Loss: {}, Accuracy: {}\".format(test_loss[0], test_loss[1]))\n",
    "\n",
    "filename = foldername + name\n",
    "\n",
    "print(filename)\n",
    "\n",
    "# Plot training & validation accuracy values\n",
    "plt.plot(history.history['acc'])\n",
    "plt.plot(history.history['val_acc'])\n",
    "plt.title('Model accuracy')\n",
    "plt.ylabel('Accuracy')\n",
    "plt.xlabel('Epoch')\n",
    "plt.legend(['Train', 'Test'], loc='upper left')\n",
    "plt.savefig(filename + '_gacc.png', dpi=64)\n",
    "plt.show()\n",
    "\n",
    "# Plot training & validation loss values\n",
    "plt.plot(history.history['loss'])\n",
    "plt.plot(history.history['val_loss'])\n",
    "plt.title('Model loss')\n",
    "plt.ylabel('Loss')\n",
    "plt.xlabel('Epoch')\n",
    "plt.legend(['Train', 'Test'], loc='upper left')\n",
    "plt.savefig(filename + '_gloss.png', dpi=64)\n",
    "plt.show()"
   ]
  }
 ],
 "metadata": {
  "kernelspec": {
   "display_name": "Python 3",
   "language": "python",
   "name": "python3"
  },
  "language_info": {
   "codemirror_mode": {
    "name": "ipython",
    "version": 3
   },
   "file_extension": ".py",
   "mimetype": "text/x-python",
   "name": "python",
   "nbconvert_exporter": "python",
   "pygments_lexer": "ipython3",
   "version": "3.6.9"
  }
 },
 "nbformat": 4,
 "nbformat_minor": 2
}
