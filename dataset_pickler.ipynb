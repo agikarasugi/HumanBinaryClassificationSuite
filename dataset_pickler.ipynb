{
 "cells": [
  {
   "cell_type": "code",
   "execution_count": 1,
   "metadata": {},
   "outputs": [],
   "source": [
    "import cv2\n",
    "import os\n",
    "from sklearn.model_selection import train_test_split\n",
    "import numpy as np"
   ]
  },
  {
   "cell_type": "code",
   "execution_count": 2,
   "metadata": {},
   "outputs": [],
   "source": [
    "dataset_path = './dataset'\n",
    "\n",
    "image_size_y = 50\n",
    "image_size_x = 80\n",
    "\n",
    "image_data = []\n",
    "image_class = []"
   ]
  },
  {
   "cell_type": "code",
   "execution_count": 3,
   "metadata": {},
   "outputs": [],
   "source": [
    "for i, dir in enumerate(os.listdir(dataset_path)):\n",
    "    class_dir = (dataset_path + '/' + dir)\n",
    "    for image in os.listdir(class_dir):\n",
    "        image_file = class_dir + '/' + image\n",
    "        img = cv2.imread(image_file)\n",
    "        res = cv2.resize(img, dsize=(image_size_y, image_size_x), interpolation=cv2.INTER_CUBIC)\n",
    "        image_data.append(res)\n",
    "        image_class.append((i - 1) * -1)\n",
    "        \n",
    "image_data = np.array(image_data, dtype='float32')\n",
    "image_class = np.array(image_class, dtype='float64')"
   ]
  },
  {
   "cell_type": "code",
   "execution_count": 4,
   "metadata": {},
   "outputs": [],
   "source": [
    "train_image, test_image, train_label, test_label = train_test_split(image_data,\n",
    "                                                                    image_class,\n",
    "                                                                    test_size=0.2)"
   ]
  },
  {
   "cell_type": "code",
   "execution_count": 5,
   "metadata": {},
   "outputs": [],
   "source": [
    "import pickle\n",
    "\n",
    "file = open('test_data.pkl', 'wb')\n",
    "test_set = (test_image, test_label)\n",
    "pickle.dump(test_set, file)\n",
    "file.close()\n",
    "\n",
    "file = open('train_data.pkl', 'wb')\n",
    "train_set = (train_image, train_label)\n",
    "pickle.dump(train_set, file)\n",
    "file.close()"
   ]
  }
 ],
 "metadata": {
  "kernelspec": {
   "display_name": "Python 3",
   "language": "python",
   "name": "python3"
  },
  "language_info": {
   "codemirror_mode": {
    "name": "ipython",
    "version": 3
   },
   "file_extension": ".py",
   "mimetype": "text/x-python",
   "name": "python",
   "nbconvert_exporter": "python",
   "pygments_lexer": "ipython3",
   "version": "3.6.6"
  }
 },
 "nbformat": 4,
 "nbformat_minor": 2
}
